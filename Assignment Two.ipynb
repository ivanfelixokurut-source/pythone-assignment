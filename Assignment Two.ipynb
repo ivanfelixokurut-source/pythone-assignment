{
 "cells": [
  {
   "cell_type": "markdown",
   "id": "a2a17259-5f0c-4cc5-a071-a34eeafd4ed0",
   "metadata": {},
   "source": [
    "Assignment two: python basics"
   ]
  },
  {
   "cell_type": "code",
   "execution_count": 4,
   "id": "d2e547a9-e134-4b72-8e76-76417d83e09c",
   "metadata": {},
   "outputs": [
    {
     "name": "stdin",
     "output_type": "stream",
     "text": [
      "enter your age:  28\n"
     ]
    },
    {
     "name": "stdout",
     "output_type": "stream",
     "text": [
      "The journey has just began\n"
     ]
    }
   ],
   "source": [
    "# checking the age and attaching their respective comments\n",
    "age = int(input(\"enter your age: \"))\n",
    "\n",
    "if age < 20:\n",
    "    print(\"You are pretty younng\")\n",
    "elif 20 <= age < 40:\n",
    "    print(\"The journey has just began\")\n",
    "elif 40 <= age < 60:\n",
    "    print(\"Huh! Life is pretty good here\")\n",
    "elif 60 <= age < 80:\n",
    "    print(\"Oops! My hair is dark no more\")\n",
    "else:\n",
    "    print(\"My eyes have seen it all\")"
   ]
  },
  {
   "cell_type": "code",
   "execution_count": null,
   "id": "01e932e4-f5b5-4395-821d-0c832f4d3eb8",
   "metadata": {},
   "outputs": [],
   "source": []
  }
 ],
 "metadata": {
  "kernelspec": {
   "display_name": "Python 3 (ipykernel)",
   "language": "python",
   "name": "python3"
  },
  "language_info": {
   "codemirror_mode": {
    "name": "ipython",
    "version": 3
   },
   "file_extension": ".py",
   "mimetype": "text/x-python",
   "name": "python",
   "nbconvert_exporter": "python",
   "pygments_lexer": "ipython3",
   "version": "3.13.5"
  }
 },
 "nbformat": 4,
 "nbformat_minor": 5
}
