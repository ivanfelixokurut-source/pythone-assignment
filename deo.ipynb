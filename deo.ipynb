{
 "cells": [
  {
   "cell_type": "markdown",
   "id": "7e10894d",
   "metadata": {},
   "source": [
    "my first file in vs "
   ]
  },
  {
   "cell_type": "code",
   "execution_count": 1,
   "id": "679d88b2",
   "metadata": {},
   "outputs": [
    {
     "data": {
      "text/plain": [
       "24"
      ]
     },
     "execution_count": 1,
     "metadata": {},
     "output_type": "execute_result"
    }
   ],
   "source": [
    "3*8"
   ]
  },
  {
   "cell_type": "code",
   "execution_count": 2,
   "id": "82f665cb",
   "metadata": {},
   "outputs": [
    {
     "name": "stdout",
     "output_type": "stream",
     "text": [
      "Carry the umbrella\n"
     ]
    }
   ],
   "source": [
    "weather = input(\"Enter The Weather:\")\n",
    "if weather=='raining':\n",
    "    print(\"Carry the umbrella\")\n",
    "else:\n",
    "    print(\"Dont\")"
   ]
  }
 ],
 "metadata": {
  "kernelspec": {
   "display_name": "base",
   "language": "python",
   "name": "python3"
  },
  "language_info": {
   "codemirror_mode": {
    "name": "ipython",
    "version": 3
   },
   "file_extension": ".py",
   "mimetype": "text/x-python",
   "name": "python",
   "nbconvert_exporter": "python",
   "pygments_lexer": "ipython3",
   "version": "3.13.5"
  }
 },
 "nbformat": 4,
 "nbformat_minor": 5
}
