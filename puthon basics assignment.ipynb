{
 "cells": [
  {
   "cell_type": "markdown",
   "id": "6d45400c-083f-4f98-9b49-d8e5b4bcfa79",
   "metadata": {},
   "source": [
    "Assignment one : Python basics."
   ]
  },
  {
   "cell_type": "markdown",
   "id": "886480a0-7055-411f-9761-5911da77abd5",
   "metadata": {},
   "source": [
    "Question one."
   ]
  },
  {
   "cell_type": "code",
   "execution_count": 4,
   "id": "bedbfea4-af32-4366-9d61-1882e3175eb2",
   "metadata": {},
   "outputs": [
    {
     "name": "stdin",
     "output_type": "stream",
     "text": [
      "Enter your full name:  okurut ivan felix\n"
     ]
    },
    {
     "name": "stdout",
     "output_type": "stream",
     "text": [
      "Uppercase: OKURUT IVAN FELIX\n"
     ]
    }
   ],
   "source": [
    "# my full name and a string\n",
    "Full_name = input(\"Enter your full name: \")\n",
    "\n",
    "# prints in uppercase\n",
    "print(\"Uppercase:\", Full_name.upper())"
   ]
  },
  {
   "cell_type": "markdown",
   "id": "41d5de86-d5f8-44fa-9602-ba221e41d44b",
   "metadata": {},
   "source": [
    "Question two."
   ]
  },
  {
   "cell_type": "code",
   "execution_count": 9,
   "id": "c5043d8a-752c-480d-9e1c-e6ca1ab14c6b",
   "metadata": {},
   "outputs": [
    {
     "name": "stdout",
     "output_type": "stream",
     "text": [
      "First fruit: mango\n",
      "Last fruit: pawpaw\n"
     ]
    }
   ],
   "source": [
    "# List of five fruits\n",
    "Fruits = [\"mango\", \"oranve\", \"pawpaw\", \"pneapple\", \"guava\"]\n",
    "\n",
    "# print first and last fruit\n",
    "print(\"First fruit:\", fruits[0])\n",
    "print(\"Last fruit:\", fruits[-1])"
   ]
  },
  {
   "cell_type": "markdown",
   "id": "5bfa0a6e-c882-454d-8d0a-d9dced6940a4",
   "metadata": {},
   "source": [
    "Question three."
   ]
  },
  {
   "cell_type": "code",
   "execution_count": 12,
   "id": "689587f8-796f-4c4c-8fff-f0020d4425fa",
   "metadata": {},
   "outputs": [
    {
     "name": "stdout",
     "output_type": "stream",
     "text": [
      "Student name: Ivan Felix\n"
     ]
    }
   ],
   "source": [
    "# A dictionary called student with keys: name, age, and course, then:\n",
    "student = {\n",
    "    \"name\": \"Ivan Felix\",\n",
    "    \"age\": \"25\",\n",
    "    \"course\": \"Data Management\",\n",
    "}\n",
    "\n",
    "# Print the student name.\n",
    "print(\"Student name:\", student[\"name\"])"
   ]
  },
  {
   "cell_type": "markdown",
   "id": "b3c70429-3c57-438e-88ff-d10838452632",
   "metadata": {},
   "source": [
    "Question four."
   ]
  },
  {
   "cell_type": "code",
   "execution_count": 16,
   "id": "a271ba30-c454-488e-9570-8c09a9a31393",
   "metadata": {},
   "outputs": [
    {
     "name": "stdout",
     "output_type": "stream",
     "text": [
      "d\n"
     ]
    }
   ],
   "source": [
    "# given the string text = \"datascince\":\n",
    "string = \"datascience\"\n",
    "\n",
    "# print the first character\n",
    "print(string[0])"
   ]
  },
  {
   "cell_type": "markdown",
   "id": "cd0666b3-d396-41cc-b034-2f7455da084e",
   "metadata": {},
   "source": [
    "Question five."
   ]
  },
  {
   "cell_type": "code",
   "execution_count": 21,
   "id": "1e79345f-6ecb-4d2e-8cd8-b98aad98c85a",
   "metadata": {},
   "outputs": [
    {
     "name": "stdout",
     "output_type": "stream",
     "text": [
      "PYTHON IS FUN\n",
      "['Python', 'is', 'fun']\n"
     ]
    }
   ],
   "source": [
    "# A python program that stores the sentence \"Python is fun\" in a variable\n",
    "sentence = \"Python is fun\"\n",
    "\n",
    "# converts the text to uppercase\n",
    "print(sentence.upper())\n",
    "\n",
    "# splits it into a list of word\n",
    "print(sentence.split())"
   ]
  }
 ],
 "metadata": {
  "kernelspec": {
   "display_name": "Python 3 (ipykernel)",
   "language": "python",
   "name": "python3"
  },
  "language_info": {
   "codemirror_mode": {
    "name": "ipython",
    "version": 3
   },
   "file_extension": ".py",
   "mimetype": "text/x-python",
   "name": "python",
   "nbconvert_exporter": "python",
   "pygments_lexer": "ipython3",
   "version": "3.13.5"
  }
 },
 "nbformat": 4,
 "nbformat_minor": 5
}
